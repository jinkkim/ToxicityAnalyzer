{
  "nbformat": 4,
  "nbformat_minor": 0,
  "metadata": {
    "colab": {
      "name": "1_data_preprocessing.ipynb",
      "version": "0.3.2",
      "provenance": []
    },
    "language_info": {
      "codemirror_mode": {
        "name": "ipython",
        "version": 3
      },
      "file_extension": ".py",
      "mimetype": "text/x-python",
      "name": "python",
      "nbconvert_exporter": "python",
      "pygments_lexer": "ipython3",
      "version": "3.7.2"
    },
    "kernelspec": {
      "display_name": "Python 3",
      "language": "python",
      "name": "python3"
    }
  },
  "cells": [
    {
      "cell_type": "markdown",
      "metadata": {
        "id": "LMhTMCCf0k32",
        "colab_type": "text"
      },
      "source": [
        "# Loading data"
      ]
    },
    {
      "cell_type": "code",
      "metadata": {
        "id": "d1JeTGsi0k35",
        "colab_type": "code",
        "outputId": "85e854c0-4945-4ac0-b574-5249423b01ed",
        "colab": {}
      },
      "source": [
        "import pandas as pd\n",
        "pd.set_option('display.max_colwidth', 100)\n",
        "rawData = pd.read_csv(\"comments.csv\")\n",
        "rawData.head()"
      ],
      "execution_count": 0,
      "outputs": [
        {
          "output_type": "execute_result",
          "data": {
            "text/html": [
              "<div>\n",
              "<style scoped>\n",
              "    .dataframe tbody tr th:only-of-type {\n",
              "        vertical-align: middle;\n",
              "    }\n",
              "\n",
              "    .dataframe tbody tr th {\n",
              "        vertical-align: top;\n",
              "    }\n",
              "\n",
              "    .dataframe thead th {\n",
              "        text-align: right;\n",
              "    }\n",
              "</style>\n",
              "<table border=\"1\" class=\"dataframe\">\n",
              "  <thead>\n",
              "    <tr style=\"text-align: right;\">\n",
              "      <th></th>\n",
              "      <th>id</th>\n",
              "      <th>target</th>\n",
              "      <th>comment_text</th>\n",
              "      <th>severe_toxicity</th>\n",
              "      <th>obscene</th>\n",
              "      <th>identity_attack</th>\n",
              "      <th>insult</th>\n",
              "      <th>threat</th>\n",
              "      <th>asian</th>\n",
              "      <th>atheist</th>\n",
              "      <th>...</th>\n",
              "      <th>article_id</th>\n",
              "      <th>rating</th>\n",
              "      <th>funny</th>\n",
              "      <th>wow</th>\n",
              "      <th>sad</th>\n",
              "      <th>likes</th>\n",
              "      <th>disagree</th>\n",
              "      <th>sexual_explicit</th>\n",
              "      <th>identity_annotator_count</th>\n",
              "      <th>toxicity_annotator_count</th>\n",
              "    </tr>\n",
              "  </thead>\n",
              "  <tbody>\n",
              "    <tr>\n",
              "      <th>0</th>\n",
              "      <td>59848</td>\n",
              "      <td>0.000000</td>\n",
              "      <td>This is so cool. It's like, 'would you want your mother to read this??' Really great idea, well ...</td>\n",
              "      <td>0.000000</td>\n",
              "      <td>0.0</td>\n",
              "      <td>0.000000</td>\n",
              "      <td>0.00000</td>\n",
              "      <td>0.0</td>\n",
              "      <td>NaN</td>\n",
              "      <td>NaN</td>\n",
              "      <td>...</td>\n",
              "      <td>2006</td>\n",
              "      <td>rejected</td>\n",
              "      <td>0</td>\n",
              "      <td>0</td>\n",
              "      <td>0</td>\n",
              "      <td>0</td>\n",
              "      <td>0</td>\n",
              "      <td>0.0</td>\n",
              "      <td>0</td>\n",
              "      <td>4</td>\n",
              "    </tr>\n",
              "    <tr>\n",
              "      <th>1</th>\n",
              "      <td>59849</td>\n",
              "      <td>0.000000</td>\n",
              "      <td>Thank you!! This would make my life a lot less anxiety-inducing. Keep it up, and don't let anyon...</td>\n",
              "      <td>0.000000</td>\n",
              "      <td>0.0</td>\n",
              "      <td>0.000000</td>\n",
              "      <td>0.00000</td>\n",
              "      <td>0.0</td>\n",
              "      <td>NaN</td>\n",
              "      <td>NaN</td>\n",
              "      <td>...</td>\n",
              "      <td>2006</td>\n",
              "      <td>rejected</td>\n",
              "      <td>0</td>\n",
              "      <td>0</td>\n",
              "      <td>0</td>\n",
              "      <td>0</td>\n",
              "      <td>0</td>\n",
              "      <td>0.0</td>\n",
              "      <td>0</td>\n",
              "      <td>4</td>\n",
              "    </tr>\n",
              "    <tr>\n",
              "      <th>2</th>\n",
              "      <td>59852</td>\n",
              "      <td>0.000000</td>\n",
              "      <td>This is such an urgent design problem; kudos to you for taking it on. Very impressive!</td>\n",
              "      <td>0.000000</td>\n",
              "      <td>0.0</td>\n",
              "      <td>0.000000</td>\n",
              "      <td>0.00000</td>\n",
              "      <td>0.0</td>\n",
              "      <td>NaN</td>\n",
              "      <td>NaN</td>\n",
              "      <td>...</td>\n",
              "      <td>2006</td>\n",
              "      <td>rejected</td>\n",
              "      <td>0</td>\n",
              "      <td>0</td>\n",
              "      <td>0</td>\n",
              "      <td>0</td>\n",
              "      <td>0</td>\n",
              "      <td>0.0</td>\n",
              "      <td>0</td>\n",
              "      <td>4</td>\n",
              "    </tr>\n",
              "    <tr>\n",
              "      <th>3</th>\n",
              "      <td>59855</td>\n",
              "      <td>0.000000</td>\n",
              "      <td>Is this something I'll be able to install on my site? When will you be releasing it?</td>\n",
              "      <td>0.000000</td>\n",
              "      <td>0.0</td>\n",
              "      <td>0.000000</td>\n",
              "      <td>0.00000</td>\n",
              "      <td>0.0</td>\n",
              "      <td>NaN</td>\n",
              "      <td>NaN</td>\n",
              "      <td>...</td>\n",
              "      <td>2006</td>\n",
              "      <td>rejected</td>\n",
              "      <td>0</td>\n",
              "      <td>0</td>\n",
              "      <td>0</td>\n",
              "      <td>0</td>\n",
              "      <td>0</td>\n",
              "      <td>0.0</td>\n",
              "      <td>0</td>\n",
              "      <td>4</td>\n",
              "    </tr>\n",
              "    <tr>\n",
              "      <th>4</th>\n",
              "      <td>59856</td>\n",
              "      <td>0.893617</td>\n",
              "      <td>haha you guys are a bunch of losers.</td>\n",
              "      <td>0.021277</td>\n",
              "      <td>0.0</td>\n",
              "      <td>0.021277</td>\n",
              "      <td>0.87234</td>\n",
              "      <td>0.0</td>\n",
              "      <td>0.0</td>\n",
              "      <td>0.0</td>\n",
              "      <td>...</td>\n",
              "      <td>2006</td>\n",
              "      <td>rejected</td>\n",
              "      <td>0</td>\n",
              "      <td>0</td>\n",
              "      <td>0</td>\n",
              "      <td>1</td>\n",
              "      <td>0</td>\n",
              "      <td>0.0</td>\n",
              "      <td>4</td>\n",
              "      <td>47</td>\n",
              "    </tr>\n",
              "  </tbody>\n",
              "</table>\n",
              "<p>5 rows × 45 columns</p>\n",
              "</div>"
            ],
            "text/plain": [
              "      id    target  \\\n",
              "0  59848  0.000000   \n",
              "1  59849  0.000000   \n",
              "2  59852  0.000000   \n",
              "3  59855  0.000000   \n",
              "4  59856  0.893617   \n",
              "\n",
              "                                                                                          comment_text  \\\n",
              "0  This is so cool. It's like, 'would you want your mother to read this??' Really great idea, well ...   \n",
              "1  Thank you!! This would make my life a lot less anxiety-inducing. Keep it up, and don't let anyon...   \n",
              "2               This is such an urgent design problem; kudos to you for taking it on. Very impressive!   \n",
              "3                 Is this something I'll be able to install on my site? When will you be releasing it?   \n",
              "4                                                                 haha you guys are a bunch of losers.   \n",
              "\n",
              "   severe_toxicity  obscene  identity_attack   insult  threat  asian  atheist  \\\n",
              "0         0.000000      0.0         0.000000  0.00000     0.0    NaN      NaN   \n",
              "1         0.000000      0.0         0.000000  0.00000     0.0    NaN      NaN   \n",
              "2         0.000000      0.0         0.000000  0.00000     0.0    NaN      NaN   \n",
              "3         0.000000      0.0         0.000000  0.00000     0.0    NaN      NaN   \n",
              "4         0.021277      0.0         0.021277  0.87234     0.0    0.0      0.0   \n",
              "\n",
              "             ...             article_id    rating  funny  wow  sad  likes  \\\n",
              "0            ...                   2006  rejected      0    0    0      0   \n",
              "1            ...                   2006  rejected      0    0    0      0   \n",
              "2            ...                   2006  rejected      0    0    0      0   \n",
              "3            ...                   2006  rejected      0    0    0      0   \n",
              "4            ...                   2006  rejected      0    0    0      1   \n",
              "\n",
              "   disagree  sexual_explicit  identity_annotator_count  \\\n",
              "0         0              0.0                         0   \n",
              "1         0              0.0                         0   \n",
              "2         0              0.0                         0   \n",
              "3         0              0.0                         0   \n",
              "4         0              0.0                         4   \n",
              "\n",
              "   toxicity_annotator_count  \n",
              "0                         4  \n",
              "1                         4  \n",
              "2                         4  \n",
              "3                         4  \n",
              "4                        47  \n",
              "\n",
              "[5 rows x 45 columns]"
            ]
          },
          "metadata": {
            "tags": []
          },
          "execution_count": 2
        }
      ]
    },
    {
      "cell_type": "markdown",
      "metadata": {
        "id": "GiEo50lE0k4T",
        "colab_type": "text"
      },
      "source": [
        "# Pre-processing text data"
      ]
    },
    {
      "cell_type": "code",
      "metadata": {
        "id": "egkxDYgx0k4V",
        "colab_type": "code",
        "outputId": "55cef2a8-2fd7-4663-c624-bd9878a8cc7f",
        "colab": {}
      },
      "source": [
        "data = rawData[[\"target\", \"comment_text\"]]\n",
        "data.head()"
      ],
      "execution_count": 0,
      "outputs": [
        {
          "output_type": "execute_result",
          "data": {
            "text/html": [
              "<div>\n",
              "<style scoped>\n",
              "    .dataframe tbody tr th:only-of-type {\n",
              "        vertical-align: middle;\n",
              "    }\n",
              "\n",
              "    .dataframe tbody tr th {\n",
              "        vertical-align: top;\n",
              "    }\n",
              "\n",
              "    .dataframe thead th {\n",
              "        text-align: right;\n",
              "    }\n",
              "</style>\n",
              "<table border=\"1\" class=\"dataframe\">\n",
              "  <thead>\n",
              "    <tr style=\"text-align: right;\">\n",
              "      <th></th>\n",
              "      <th>target</th>\n",
              "      <th>comment_text</th>\n",
              "    </tr>\n",
              "  </thead>\n",
              "  <tbody>\n",
              "    <tr>\n",
              "      <th>0</th>\n",
              "      <td>0.000000</td>\n",
              "      <td>This is so cool. It's like, 'would you want your mother to read this??' Really great idea, well ...</td>\n",
              "    </tr>\n",
              "    <tr>\n",
              "      <th>1</th>\n",
              "      <td>0.000000</td>\n",
              "      <td>Thank you!! This would make my life a lot less anxiety-inducing. Keep it up, and don't let anyon...</td>\n",
              "    </tr>\n",
              "    <tr>\n",
              "      <th>2</th>\n",
              "      <td>0.000000</td>\n",
              "      <td>This is such an urgent design problem; kudos to you for taking it on. Very impressive!</td>\n",
              "    </tr>\n",
              "    <tr>\n",
              "      <th>3</th>\n",
              "      <td>0.000000</td>\n",
              "      <td>Is this something I'll be able to install on my site? When will you be releasing it?</td>\n",
              "    </tr>\n",
              "    <tr>\n",
              "      <th>4</th>\n",
              "      <td>0.893617</td>\n",
              "      <td>haha you guys are a bunch of losers.</td>\n",
              "    </tr>\n",
              "  </tbody>\n",
              "</table>\n",
              "</div>"
            ],
            "text/plain": [
              "     target  \\\n",
              "0  0.000000   \n",
              "1  0.000000   \n",
              "2  0.000000   \n",
              "3  0.000000   \n",
              "4  0.893617   \n",
              "\n",
              "                                                                                          comment_text  \n",
              "0  This is so cool. It's like, 'would you want your mother to read this??' Really great idea, well ...  \n",
              "1  Thank you!! This would make my life a lot less anxiety-inducing. Keep it up, and don't let anyon...  \n",
              "2               This is such an urgent design problem; kudos to you for taking it on. Very impressive!  \n",
              "3                 Is this something I'll be able to install on my site? When will you be releasing it?  \n",
              "4                                                                 haha you guys are a bunch of losers.  "
            ]
          },
          "metadata": {
            "tags": []
          },
          "execution_count": 3
        }
      ]
    },
    {
      "cell_type": "markdown",
      "metadata": {
        "id": "GOIeY-Et0k4j",
        "colab_type": "text"
      },
      "source": [
        "## 1. remove punctuation"
      ]
    },
    {
      "cell_type": "code",
      "metadata": {
        "id": "kH7PEmkE1alh",
        "colab_type": "code",
        "outputId": "173b8e63-149f-4ded-d5d4-c9e3b35e49d6",
        "colab": {
          "base_uri": "https://localhost:8080/",
          "height": 35
        }
      },
      "source": [
        "import string\n",
        "string.punctuation"
      ],
      "execution_count": 0,
      "outputs": [
        {
          "output_type": "execute_result",
          "data": {
            "text/plain": [
              "'!\"#$%&\\'()*+,-./:;<=>?@[\\\\]^_`{|}~'"
            ]
          },
          "metadata": {
            "tags": []
          },
          "execution_count": 1
        }
      ]
    },
    {
      "cell_type": "code",
      "metadata": {
        "id": "Hq9952BI0k4l",
        "colab_type": "code",
        "outputId": "5076c2d6-853c-4c8e-fae8-69a97ae48651",
        "colab": {}
      },
      "source": [
        "import string\n",
        "string.punctuation\n",
        "\n",
        "def remove_punct(text):\n",
        "    text_nopunct = \"\".join([char for char in text if char not in string.punctuation])\n",
        "    return text_nopunct\n",
        "\n",
        "data['comment_text_clean'] = data['comment_text'].apply(lambda x: remove_punct(x))\n",
        "\n",
        "data.head()"
      ],
      "execution_count": 0,
      "outputs": [
        {
          "output_type": "stream",
          "text": [
            "C:\\Users\\pfesu\\AppData\\Roaming\\Python\\Python37\\site-packages\\ipykernel_launcher.py:8: SettingWithCopyWarning: \n",
            "A value is trying to be set on a copy of a slice from a DataFrame.\n",
            "Try using .loc[row_indexer,col_indexer] = value instead\n",
            "\n",
            "See the caveats in the documentation: http://pandas.pydata.org/pandas-docs/stable/indexing.html#indexing-view-versus-copy\n",
            "  \n"
          ],
          "name": "stderr"
        },
        {
          "output_type": "execute_result",
          "data": {
            "text/html": [
              "<div>\n",
              "<style scoped>\n",
              "    .dataframe tbody tr th:only-of-type {\n",
              "        vertical-align: middle;\n",
              "    }\n",
              "\n",
              "    .dataframe tbody tr th {\n",
              "        vertical-align: top;\n",
              "    }\n",
              "\n",
              "    .dataframe thead th {\n",
              "        text-align: right;\n",
              "    }\n",
              "</style>\n",
              "<table border=\"1\" class=\"dataframe\">\n",
              "  <thead>\n",
              "    <tr style=\"text-align: right;\">\n",
              "      <th></th>\n",
              "      <th>target</th>\n",
              "      <th>comment_text</th>\n",
              "      <th>comment_text_clean</th>\n",
              "    </tr>\n",
              "  </thead>\n",
              "  <tbody>\n",
              "    <tr>\n",
              "      <th>0</th>\n",
              "      <td>0.000000</td>\n",
              "      <td>This is so cool. It's like, 'would you want your mother to read this??' Really great idea, well ...</td>\n",
              "      <td>This is so cool Its like would you want your mother to read this Really great idea well done</td>\n",
              "    </tr>\n",
              "    <tr>\n",
              "      <th>1</th>\n",
              "      <td>0.000000</td>\n",
              "      <td>Thank you!! This would make my life a lot less anxiety-inducing. Keep it up, and don't let anyon...</td>\n",
              "      <td>Thank you This would make my life a lot less anxietyinducing Keep it up and dont let anyone get ...</td>\n",
              "    </tr>\n",
              "    <tr>\n",
              "      <th>2</th>\n",
              "      <td>0.000000</td>\n",
              "      <td>This is such an urgent design problem; kudos to you for taking it on. Very impressive!</td>\n",
              "      <td>This is such an urgent design problem kudos to you for taking it on Very impressive</td>\n",
              "    </tr>\n",
              "    <tr>\n",
              "      <th>3</th>\n",
              "      <td>0.000000</td>\n",
              "      <td>Is this something I'll be able to install on my site? When will you be releasing it?</td>\n",
              "      <td>Is this something Ill be able to install on my site When will you be releasing it</td>\n",
              "    </tr>\n",
              "    <tr>\n",
              "      <th>4</th>\n",
              "      <td>0.893617</td>\n",
              "      <td>haha you guys are a bunch of losers.</td>\n",
              "      <td>haha you guys are a bunch of losers</td>\n",
              "    </tr>\n",
              "  </tbody>\n",
              "</table>\n",
              "</div>"
            ],
            "text/plain": [
              "     target  \\\n",
              "0  0.000000   \n",
              "1  0.000000   \n",
              "2  0.000000   \n",
              "3  0.000000   \n",
              "4  0.893617   \n",
              "\n",
              "                                                                                          comment_text  \\\n",
              "0  This is so cool. It's like, 'would you want your mother to read this??' Really great idea, well ...   \n",
              "1  Thank you!! This would make my life a lot less anxiety-inducing. Keep it up, and don't let anyon...   \n",
              "2               This is such an urgent design problem; kudos to you for taking it on. Very impressive!   \n",
              "3                 Is this something I'll be able to install on my site? When will you be releasing it?   \n",
              "4                                                                 haha you guys are a bunch of losers.   \n",
              "\n",
              "                                                                                    comment_text_clean  \n",
              "0         This is so cool Its like would you want your mother to read this Really great idea well done  \n",
              "1  Thank you This would make my life a lot less anxietyinducing Keep it up and dont let anyone get ...  \n",
              "2                  This is such an urgent design problem kudos to you for taking it on Very impressive  \n",
              "3                    Is this something Ill be able to install on my site When will you be releasing it  \n",
              "4                                                                  haha you guys are a bunch of losers  "
            ]
          },
          "metadata": {
            "tags": []
          },
          "execution_count": 4
        }
      ]
    },
    {
      "cell_type": "markdown",
      "metadata": {
        "id": "yZf1ez4f0k4r",
        "colab_type": "text"
      },
      "source": [
        "## 2. Tokenization"
      ]
    },
    {
      "cell_type": "code",
      "metadata": {
        "id": "NOkm0z0p0k4s",
        "colab_type": "code",
        "outputId": "330f1e60-d857-4939-afc7-64634d97e0c3",
        "colab": {}
      },
      "source": [
        "import re\n",
        "\n",
        "def tokenize(text):\n",
        "    tokens = re.split('\\W+', text)\n",
        "    return tokens\n",
        "data['comment_text_tokenized'] = data['comment_text_clean'].apply(lambda x: tokenize(x.lower()))\n",
        "data.head()"
      ],
      "execution_count": 0,
      "outputs": [
        {
          "output_type": "stream",
          "text": [
            "C:\\Users\\pfesu\\AppData\\Roaming\\Python\\Python37\\site-packages\\ipykernel_launcher.py:6: SettingWithCopyWarning: \n",
            "A value is trying to be set on a copy of a slice from a DataFrame.\n",
            "Try using .loc[row_indexer,col_indexer] = value instead\n",
            "\n",
            "See the caveats in the documentation: http://pandas.pydata.org/pandas-docs/stable/indexing.html#indexing-view-versus-copy\n",
            "  \n"
          ],
          "name": "stderr"
        },
        {
          "output_type": "execute_result",
          "data": {
            "text/html": [
              "<div>\n",
              "<style scoped>\n",
              "    .dataframe tbody tr th:only-of-type {\n",
              "        vertical-align: middle;\n",
              "    }\n",
              "\n",
              "    .dataframe tbody tr th {\n",
              "        vertical-align: top;\n",
              "    }\n",
              "\n",
              "    .dataframe thead th {\n",
              "        text-align: right;\n",
              "    }\n",
              "</style>\n",
              "<table border=\"1\" class=\"dataframe\">\n",
              "  <thead>\n",
              "    <tr style=\"text-align: right;\">\n",
              "      <th></th>\n",
              "      <th>target</th>\n",
              "      <th>comment_text</th>\n",
              "      <th>comment_text_clean</th>\n",
              "      <th>comment_text_tokenized</th>\n",
              "    </tr>\n",
              "  </thead>\n",
              "  <tbody>\n",
              "    <tr>\n",
              "      <th>0</th>\n",
              "      <td>0.000000</td>\n",
              "      <td>This is so cool. It's like, 'would you want your mother to read this??' Really great idea, well ...</td>\n",
              "      <td>This is so cool Its like would you want your mother to read this Really great idea well done</td>\n",
              "      <td>[this, is, so, cool, its, like, would, you, want, your, mother, to, read, this, really, great, i...</td>\n",
              "    </tr>\n",
              "    <tr>\n",
              "      <th>1</th>\n",
              "      <td>0.000000</td>\n",
              "      <td>Thank you!! This would make my life a lot less anxiety-inducing. Keep it up, and don't let anyon...</td>\n",
              "      <td>Thank you This would make my life a lot less anxietyinducing Keep it up and dont let anyone get ...</td>\n",
              "      <td>[thank, you, this, would, make, my, life, a, lot, less, anxietyinducing, keep, it, up, and, dont...</td>\n",
              "    </tr>\n",
              "    <tr>\n",
              "      <th>2</th>\n",
              "      <td>0.000000</td>\n",
              "      <td>This is such an urgent design problem; kudos to you for taking it on. Very impressive!</td>\n",
              "      <td>This is such an urgent design problem kudos to you for taking it on Very impressive</td>\n",
              "      <td>[this, is, such, an, urgent, design, problem, kudos, to, you, for, taking, it, on, very, impress...</td>\n",
              "    </tr>\n",
              "    <tr>\n",
              "      <th>3</th>\n",
              "      <td>0.000000</td>\n",
              "      <td>Is this something I'll be able to install on my site? When will you be releasing it?</td>\n",
              "      <td>Is this something Ill be able to install on my site When will you be releasing it</td>\n",
              "      <td>[is, this, something, ill, be, able, to, install, on, my, site, when, will, you, be, releasing, it]</td>\n",
              "    </tr>\n",
              "    <tr>\n",
              "      <th>4</th>\n",
              "      <td>0.893617</td>\n",
              "      <td>haha you guys are a bunch of losers.</td>\n",
              "      <td>haha you guys are a bunch of losers</td>\n",
              "      <td>[haha, you, guys, are, a, bunch, of, losers]</td>\n",
              "    </tr>\n",
              "  </tbody>\n",
              "</table>\n",
              "</div>"
            ],
            "text/plain": [
              "     target  \\\n",
              "0  0.000000   \n",
              "1  0.000000   \n",
              "2  0.000000   \n",
              "3  0.000000   \n",
              "4  0.893617   \n",
              "\n",
              "                                                                                          comment_text  \\\n",
              "0  This is so cool. It's like, 'would you want your mother to read this??' Really great idea, well ...   \n",
              "1  Thank you!! This would make my life a lot less anxiety-inducing. Keep it up, and don't let anyon...   \n",
              "2               This is such an urgent design problem; kudos to you for taking it on. Very impressive!   \n",
              "3                 Is this something I'll be able to install on my site? When will you be releasing it?   \n",
              "4                                                                 haha you guys are a bunch of losers.   \n",
              "\n",
              "                                                                                    comment_text_clean  \\\n",
              "0         This is so cool Its like would you want your mother to read this Really great idea well done   \n",
              "1  Thank you This would make my life a lot less anxietyinducing Keep it up and dont let anyone get ...   \n",
              "2                  This is such an urgent design problem kudos to you for taking it on Very impressive   \n",
              "3                    Is this something Ill be able to install on my site When will you be releasing it   \n",
              "4                                                                  haha you guys are a bunch of losers   \n",
              "\n",
              "                                                                                comment_text_tokenized  \n",
              "0  [this, is, so, cool, its, like, would, you, want, your, mother, to, read, this, really, great, i...  \n",
              "1  [thank, you, this, would, make, my, life, a, lot, less, anxietyinducing, keep, it, up, and, dont...  \n",
              "2  [this, is, such, an, urgent, design, problem, kudos, to, you, for, taking, it, on, very, impress...  \n",
              "3  [is, this, something, ill, be, able, to, install, on, my, site, when, will, you, be, releasing, it]  \n",
              "4                                                         [haha, you, guys, are, a, bunch, of, losers]  "
            ]
          },
          "metadata": {
            "tags": []
          },
          "execution_count": 5
        }
      ]
    },
    {
      "cell_type": "markdown",
      "metadata": {
        "id": "aap2r38N0k4y",
        "colab_type": "text"
      },
      "source": [
        "## 3. Remove stopwords"
      ]
    },
    {
      "cell_type": "code",
      "metadata": {
        "id": "nZM3E4kP0k4z",
        "colab_type": "code",
        "outputId": "21f74cdf-87cd-4fd7-ae54-2024a18caa80",
        "colab": {
          "base_uri": "https://localhost:8080/",
          "height": 1853
        }
      },
      "source": [
        "import nltk\n",
        "nltk.download('stopwords')\n",
        "stopword = nltk.corpus.stopwords.words('english')\n",
        "stopword[0:100]"
      ],
      "execution_count": 0,
      "outputs": [
        {
          "output_type": "stream",
          "text": [
            "[nltk_data] Downloading package stopwords to /root/nltk_data...\n",
            "[nltk_data]   Package stopwords is already up-to-date!\n"
          ],
          "name": "stdout"
        },
        {
          "output_type": "execute_result",
          "data": {
            "text/plain": [
              "['i',\n",
              " 'me',\n",
              " 'my',\n",
              " 'myself',\n",
              " 'we',\n",
              " 'our',\n",
              " 'ours',\n",
              " 'ourselves',\n",
              " 'you',\n",
              " \"you're\",\n",
              " \"you've\",\n",
              " \"you'll\",\n",
              " \"you'd\",\n",
              " 'your',\n",
              " 'yours',\n",
              " 'yourself',\n",
              " 'yourselves',\n",
              " 'he',\n",
              " 'him',\n",
              " 'his',\n",
              " 'himself',\n",
              " 'she',\n",
              " \"she's\",\n",
              " 'her',\n",
              " 'hers',\n",
              " 'herself',\n",
              " 'it',\n",
              " \"it's\",\n",
              " 'its',\n",
              " 'itself',\n",
              " 'they',\n",
              " 'them',\n",
              " 'their',\n",
              " 'theirs',\n",
              " 'themselves',\n",
              " 'what',\n",
              " 'which',\n",
              " 'who',\n",
              " 'whom',\n",
              " 'this',\n",
              " 'that',\n",
              " \"that'll\",\n",
              " 'these',\n",
              " 'those',\n",
              " 'am',\n",
              " 'is',\n",
              " 'are',\n",
              " 'was',\n",
              " 'were',\n",
              " 'be',\n",
              " 'been',\n",
              " 'being',\n",
              " 'have',\n",
              " 'has',\n",
              " 'had',\n",
              " 'having',\n",
              " 'do',\n",
              " 'does',\n",
              " 'did',\n",
              " 'doing',\n",
              " 'a',\n",
              " 'an',\n",
              " 'the',\n",
              " 'and',\n",
              " 'but',\n",
              " 'if',\n",
              " 'or',\n",
              " 'because',\n",
              " 'as',\n",
              " 'until',\n",
              " 'while',\n",
              " 'of',\n",
              " 'at',\n",
              " 'by',\n",
              " 'for',\n",
              " 'with',\n",
              " 'about',\n",
              " 'against',\n",
              " 'between',\n",
              " 'into',\n",
              " 'through',\n",
              " 'during',\n",
              " 'before',\n",
              " 'after',\n",
              " 'above',\n",
              " 'below',\n",
              " 'to',\n",
              " 'from',\n",
              " 'up',\n",
              " 'down',\n",
              " 'in',\n",
              " 'out',\n",
              " 'on',\n",
              " 'off',\n",
              " 'over',\n",
              " 'under',\n",
              " 'again',\n",
              " 'further',\n",
              " 'then',\n",
              " 'once']"
            ]
          },
          "metadata": {
            "tags": []
          },
          "execution_count": 5
        }
      ]
    },
    {
      "cell_type": "code",
      "metadata": {
        "id": "xIiKWMBI0k46",
        "colab_type": "code",
        "outputId": "1f00d2be-6dd2-4394-ea8c-5d9417cdb61e",
        "colab": {}
      },
      "source": [
        "def remove_stopwords(tokenized_list):\n",
        "    text = [word for word in tokenized_list if word not in stopword]\n",
        "    return text\n",
        "data['comment_text_nostop'] = data['comment_text_tokenized'].apply(lambda x: remove_stopwords(x))\n",
        "data.head()"
      ],
      "execution_count": 0,
      "outputs": [
        {
          "output_type": "stream",
          "text": [
            "C:\\Users\\pfesu\\AppData\\Roaming\\Python\\Python37\\site-packages\\ipykernel_launcher.py:4: SettingWithCopyWarning: \n",
            "A value is trying to be set on a copy of a slice from a DataFrame.\n",
            "Try using .loc[row_indexer,col_indexer] = value instead\n",
            "\n",
            "See the caveats in the documentation: http://pandas.pydata.org/pandas-docs/stable/indexing.html#indexing-view-versus-copy\n",
            "  after removing the cwd from sys.path.\n"
          ],
          "name": "stderr"
        },
        {
          "output_type": "execute_result",
          "data": {
            "text/html": [
              "<div>\n",
              "<style scoped>\n",
              "    .dataframe tbody tr th:only-of-type {\n",
              "        vertical-align: middle;\n",
              "    }\n",
              "\n",
              "    .dataframe tbody tr th {\n",
              "        vertical-align: top;\n",
              "    }\n",
              "\n",
              "    .dataframe thead th {\n",
              "        text-align: right;\n",
              "    }\n",
              "</style>\n",
              "<table border=\"1\" class=\"dataframe\">\n",
              "  <thead>\n",
              "    <tr style=\"text-align: right;\">\n",
              "      <th></th>\n",
              "      <th>target</th>\n",
              "      <th>comment_text</th>\n",
              "      <th>comment_text_clean</th>\n",
              "      <th>comment_text_tokenized</th>\n",
              "      <th>comment_text_nostop</th>\n",
              "    </tr>\n",
              "  </thead>\n",
              "  <tbody>\n",
              "    <tr>\n",
              "      <th>0</th>\n",
              "      <td>0.000000</td>\n",
              "      <td>This is so cool. It's like, 'would you want your mother to read this??' Really great idea, well ...</td>\n",
              "      <td>This is so cool Its like would you want your mother to read this Really great idea well done</td>\n",
              "      <td>[this, is, so, cool, its, like, would, you, want, your, mother, to, read, this, really, great, i...</td>\n",
              "      <td>[cool, like, would, want, mother, read, really, great, idea, well, done]</td>\n",
              "    </tr>\n",
              "    <tr>\n",
              "      <th>1</th>\n",
              "      <td>0.000000</td>\n",
              "      <td>Thank you!! This would make my life a lot less anxiety-inducing. Keep it up, and don't let anyon...</td>\n",
              "      <td>Thank you This would make my life a lot less anxietyinducing Keep it up and dont let anyone get ...</td>\n",
              "      <td>[thank, you, this, would, make, my, life, a, lot, less, anxietyinducing, keep, it, up, and, dont...</td>\n",
              "      <td>[thank, would, make, life, lot, less, anxietyinducing, keep, dont, let, anyone, get, way]</td>\n",
              "    </tr>\n",
              "    <tr>\n",
              "      <th>2</th>\n",
              "      <td>0.000000</td>\n",
              "      <td>This is such an urgent design problem; kudos to you for taking it on. Very impressive!</td>\n",
              "      <td>This is such an urgent design problem kudos to you for taking it on Very impressive</td>\n",
              "      <td>[this, is, such, an, urgent, design, problem, kudos, to, you, for, taking, it, on, very, impress...</td>\n",
              "      <td>[urgent, design, problem, kudos, taking, impressive]</td>\n",
              "    </tr>\n",
              "    <tr>\n",
              "      <th>3</th>\n",
              "      <td>0.000000</td>\n",
              "      <td>Is this something I'll be able to install on my site? When will you be releasing it?</td>\n",
              "      <td>Is this something Ill be able to install on my site When will you be releasing it</td>\n",
              "      <td>[is, this, something, ill, be, able, to, install, on, my, site, when, will, you, be, releasing, it]</td>\n",
              "      <td>[something, ill, able, install, site, releasing]</td>\n",
              "    </tr>\n",
              "    <tr>\n",
              "      <th>4</th>\n",
              "      <td>0.893617</td>\n",
              "      <td>haha you guys are a bunch of losers.</td>\n",
              "      <td>haha you guys are a bunch of losers</td>\n",
              "      <td>[haha, you, guys, are, a, bunch, of, losers]</td>\n",
              "      <td>[haha, guys, bunch, losers]</td>\n",
              "    </tr>\n",
              "  </tbody>\n",
              "</table>\n",
              "</div>"
            ],
            "text/plain": [
              "     target  \\\n",
              "0  0.000000   \n",
              "1  0.000000   \n",
              "2  0.000000   \n",
              "3  0.000000   \n",
              "4  0.893617   \n",
              "\n",
              "                                                                                          comment_text  \\\n",
              "0  This is so cool. It's like, 'would you want your mother to read this??' Really great idea, well ...   \n",
              "1  Thank you!! This would make my life a lot less anxiety-inducing. Keep it up, and don't let anyon...   \n",
              "2               This is such an urgent design problem; kudos to you for taking it on. Very impressive!   \n",
              "3                 Is this something I'll be able to install on my site? When will you be releasing it?   \n",
              "4                                                                 haha you guys are a bunch of losers.   \n",
              "\n",
              "                                                                                    comment_text_clean  \\\n",
              "0         This is so cool Its like would you want your mother to read this Really great idea well done   \n",
              "1  Thank you This would make my life a lot less anxietyinducing Keep it up and dont let anyone get ...   \n",
              "2                  This is such an urgent design problem kudos to you for taking it on Very impressive   \n",
              "3                    Is this something Ill be able to install on my site When will you be releasing it   \n",
              "4                                                                  haha you guys are a bunch of losers   \n",
              "\n",
              "                                                                                comment_text_tokenized  \\\n",
              "0  [this, is, so, cool, its, like, would, you, want, your, mother, to, read, this, really, great, i...   \n",
              "1  [thank, you, this, would, make, my, life, a, lot, less, anxietyinducing, keep, it, up, and, dont...   \n",
              "2  [this, is, such, an, urgent, design, problem, kudos, to, you, for, taking, it, on, very, impress...   \n",
              "3  [is, this, something, ill, be, able, to, install, on, my, site, when, will, you, be, releasing, it]   \n",
              "4                                                         [haha, you, guys, are, a, bunch, of, losers]   \n",
              "\n",
              "                                                                         comment_text_nostop  \n",
              "0                   [cool, like, would, want, mother, read, really, great, idea, well, done]  \n",
              "1  [thank, would, make, life, lot, less, anxietyinducing, keep, dont, let, anyone, get, way]  \n",
              "2                                       [urgent, design, problem, kudos, taking, impressive]  \n",
              "3                                           [something, ill, able, install, site, releasing]  \n",
              "4                                                                [haha, guys, bunch, losers]  "
            ]
          },
          "metadata": {
            "tags": []
          },
          "execution_count": 8
        }
      ]
    },
    {
      "cell_type": "markdown",
      "metadata": {
        "id": "mnZ-yK2W0k5A",
        "colab_type": "text"
      },
      "source": [
        "## 4. _Lemmatizing_ or Stemming"
      ]
    },
    {
      "cell_type": "code",
      "metadata": {
        "id": "M5ZXPXrC3Kto",
        "colab_type": "code",
        "outputId": "5394d3b1-1e9f-43e7-89ae-c6914dda1d24",
        "colab": {
          "base_uri": "https://localhost:8080/",
          "height": 71
        }
      },
      "source": [
        "import nltk\n",
        "wn = nltk.WordNetLemmatizer()\n",
        "ps = nltk.PorterStemmer()\n",
        "\n",
        "nltk.download('wordnet')"
      ],
      "execution_count": 0,
      "outputs": [
        {
          "output_type": "stream",
          "text": [
            "[nltk_data] Downloading package wordnet to /root/nltk_data...\n",
            "[nltk_data]   Unzipping corpora/wordnet.zip.\n"
          ],
          "name": "stdout"
        },
        {
          "output_type": "execute_result",
          "data": {
            "text/plain": [
              "True"
            ]
          },
          "metadata": {
            "tags": []
          },
          "execution_count": 13
        }
      ]
    },
    {
      "cell_type": "code",
      "metadata": {
        "id": "sn2Nxcuk3QWZ",
        "colab_type": "code",
        "outputId": "ef884f73-c00f-446a-f252-0492c5643392",
        "colab": {
          "base_uri": "https://localhost:8080/",
          "height": 35
        }
      },
      "source": [
        "\n",
        "wn.lemmatize(\"ate\")\n"
      ],
      "execution_count": 0,
      "outputs": [
        {
          "output_type": "execute_result",
          "data": {
            "text/plain": [
              "'ate'"
            ]
          },
          "metadata": {
            "tags": []
          },
          "execution_count": 22
        }
      ]
    },
    {
      "cell_type": "code",
      "metadata": {
        "id": "qN7vt4KX3uvH",
        "colab_type": "code",
        "outputId": "08c43255-b756-4d89-fb8e-abec43c0e7af",
        "colab": {
          "base_uri": "https://localhost:8080/",
          "height": 35
        }
      },
      "source": [
        "ps.stem(\"ate\")"
      ],
      "execution_count": 0,
      "outputs": [
        {
          "output_type": "execute_result",
          "data": {
            "text/plain": [
              "'ate'"
            ]
          },
          "metadata": {
            "tags": []
          },
          "execution_count": 24
        }
      ]
    },
    {
      "cell_type": "code",
      "metadata": {
        "id": "_rnIf21O0k5B",
        "colab_type": "code",
        "outputId": "179fc0eb-9c65-44cd-c51d-d1e5740ed02d",
        "colab": {}
      },
      "source": [
        "import nltk\n",
        "wn = nltk.WordNetLemmatizer()\n",
        "\n",
        "def lemmatizing(tokenized_text):\n",
        "    text = [wn.lemmatize(word) for word in tokenized_text]\n",
        "    return text\n",
        "\n",
        "data['comment_text_lemmatized'] = data['comment_text_nostop'].apply(lambda x: lemmatizing(x))\n",
        "data.head()"
      ],
      "execution_count": 0,
      "outputs": [
        {
          "output_type": "stream",
          "text": [
            "C:\\Users\\pfesu\\AppData\\Roaming\\Python\\Python37\\site-packages\\ipykernel_launcher.py:8: SettingWithCopyWarning: \n",
            "A value is trying to be set on a copy of a slice from a DataFrame.\n",
            "Try using .loc[row_indexer,col_indexer] = value instead\n",
            "\n",
            "See the caveats in the documentation: http://pandas.pydata.org/pandas-docs/stable/indexing.html#indexing-view-versus-copy\n",
            "  \n"
          ],
          "name": "stderr"
        },
        {
          "output_type": "execute_result",
          "data": {
            "text/html": [
              "<div>\n",
              "<style scoped>\n",
              "    .dataframe tbody tr th:only-of-type {\n",
              "        vertical-align: middle;\n",
              "    }\n",
              "\n",
              "    .dataframe tbody tr th {\n",
              "        vertical-align: top;\n",
              "    }\n",
              "\n",
              "    .dataframe thead th {\n",
              "        text-align: right;\n",
              "    }\n",
              "</style>\n",
              "<table border=\"1\" class=\"dataframe\">\n",
              "  <thead>\n",
              "    <tr style=\"text-align: right;\">\n",
              "      <th></th>\n",
              "      <th>target</th>\n",
              "      <th>comment_text</th>\n",
              "      <th>comment_text_clean</th>\n",
              "      <th>comment_text_tokenized</th>\n",
              "      <th>comment_text_nostop</th>\n",
              "      <th>comment_text_lemmatized</th>\n",
              "    </tr>\n",
              "  </thead>\n",
              "  <tbody>\n",
              "    <tr>\n",
              "      <th>0</th>\n",
              "      <td>0.000000</td>\n",
              "      <td>This is so cool. It's like, 'would you want your mother to read this??' Really great idea, well ...</td>\n",
              "      <td>This is so cool Its like would you want your mother to read this Really great idea well done</td>\n",
              "      <td>[this, is, so, cool, its, like, would, you, want, your, mother, to, read, this, really, great, i...</td>\n",
              "      <td>[cool, like, would, want, mother, read, really, great, idea, well, done]</td>\n",
              "      <td>[cool, like, would, want, mother, read, really, great, idea, well, done]</td>\n",
              "    </tr>\n",
              "    <tr>\n",
              "      <th>1</th>\n",
              "      <td>0.000000</td>\n",
              "      <td>Thank you!! This would make my life a lot less anxiety-inducing. Keep it up, and don't let anyon...</td>\n",
              "      <td>Thank you This would make my life a lot less anxietyinducing Keep it up and dont let anyone get ...</td>\n",
              "      <td>[thank, you, this, would, make, my, life, a, lot, less, anxietyinducing, keep, it, up, and, dont...</td>\n",
              "      <td>[thank, would, make, life, lot, less, anxietyinducing, keep, dont, let, anyone, get, way]</td>\n",
              "      <td>[thank, would, make, life, lot, le, anxietyinducing, keep, dont, let, anyone, get, way]</td>\n",
              "    </tr>\n",
              "    <tr>\n",
              "      <th>2</th>\n",
              "      <td>0.000000</td>\n",
              "      <td>This is such an urgent design problem; kudos to you for taking it on. Very impressive!</td>\n",
              "      <td>This is such an urgent design problem kudos to you for taking it on Very impressive</td>\n",
              "      <td>[this, is, such, an, urgent, design, problem, kudos, to, you, for, taking, it, on, very, impress...</td>\n",
              "      <td>[urgent, design, problem, kudos, taking, impressive]</td>\n",
              "      <td>[urgent, design, problem, kudos, taking, impressive]</td>\n",
              "    </tr>\n",
              "    <tr>\n",
              "      <th>3</th>\n",
              "      <td>0.000000</td>\n",
              "      <td>Is this something I'll be able to install on my site? When will you be releasing it?</td>\n",
              "      <td>Is this something Ill be able to install on my site When will you be releasing it</td>\n",
              "      <td>[is, this, something, ill, be, able, to, install, on, my, site, when, will, you, be, releasing, it]</td>\n",
              "      <td>[something, ill, able, install, site, releasing]</td>\n",
              "      <td>[something, ill, able, install, site, releasing]</td>\n",
              "    </tr>\n",
              "    <tr>\n",
              "      <th>4</th>\n",
              "      <td>0.893617</td>\n",
              "      <td>haha you guys are a bunch of losers.</td>\n",
              "      <td>haha you guys are a bunch of losers</td>\n",
              "      <td>[haha, you, guys, are, a, bunch, of, losers]</td>\n",
              "      <td>[haha, guys, bunch, losers]</td>\n",
              "      <td>[haha, guy, bunch, loser]</td>\n",
              "    </tr>\n",
              "  </tbody>\n",
              "</table>\n",
              "</div>"
            ],
            "text/plain": [
              "     target  \\\n",
              "0  0.000000   \n",
              "1  0.000000   \n",
              "2  0.000000   \n",
              "3  0.000000   \n",
              "4  0.893617   \n",
              "\n",
              "                                                                                          comment_text  \\\n",
              "0  This is so cool. It's like, 'would you want your mother to read this??' Really great idea, well ...   \n",
              "1  Thank you!! This would make my life a lot less anxiety-inducing. Keep it up, and don't let anyon...   \n",
              "2               This is such an urgent design problem; kudos to you for taking it on. Very impressive!   \n",
              "3                 Is this something I'll be able to install on my site? When will you be releasing it?   \n",
              "4                                                                 haha you guys are a bunch of losers.   \n",
              "\n",
              "                                                                                    comment_text_clean  \\\n",
              "0         This is so cool Its like would you want your mother to read this Really great idea well done   \n",
              "1  Thank you This would make my life a lot less anxietyinducing Keep it up and dont let anyone get ...   \n",
              "2                  This is such an urgent design problem kudos to you for taking it on Very impressive   \n",
              "3                    Is this something Ill be able to install on my site When will you be releasing it   \n",
              "4                                                                  haha you guys are a bunch of losers   \n",
              "\n",
              "                                                                                comment_text_tokenized  \\\n",
              "0  [this, is, so, cool, its, like, would, you, want, your, mother, to, read, this, really, great, i...   \n",
              "1  [thank, you, this, would, make, my, life, a, lot, less, anxietyinducing, keep, it, up, and, dont...   \n",
              "2  [this, is, such, an, urgent, design, problem, kudos, to, you, for, taking, it, on, very, impress...   \n",
              "3  [is, this, something, ill, be, able, to, install, on, my, site, when, will, you, be, releasing, it]   \n",
              "4                                                         [haha, you, guys, are, a, bunch, of, losers]   \n",
              "\n",
              "                                                                         comment_text_nostop  \\\n",
              "0                   [cool, like, would, want, mother, read, really, great, idea, well, done]   \n",
              "1  [thank, would, make, life, lot, less, anxietyinducing, keep, dont, let, anyone, get, way]   \n",
              "2                                       [urgent, design, problem, kudos, taking, impressive]   \n",
              "3                                           [something, ill, able, install, site, releasing]   \n",
              "4                                                                [haha, guys, bunch, losers]   \n",
              "\n",
              "                                                                   comment_text_lemmatized  \n",
              "0                 [cool, like, would, want, mother, read, really, great, idea, well, done]  \n",
              "1  [thank, would, make, life, lot, le, anxietyinducing, keep, dont, let, anyone, get, way]  \n",
              "2                                     [urgent, design, problem, kudos, taking, impressive]  \n",
              "3                                         [something, ill, able, install, site, releasing]  \n",
              "4                                                                [haha, guy, bunch, loser]  "
            ]
          },
          "metadata": {
            "tags": []
          },
          "execution_count": 9
        }
      ]
    },
    {
      "cell_type": "code",
      "metadata": {
        "id": "is2L5geM0k5I",
        "colab_type": "code",
        "colab": {}
      },
      "source": [
        "#for stemming\n",
        "\n",
        "#ps = nltk.PorterStemmer()\n",
        "#def stemming(tokenized_text):\n",
        "#    text = [ps.stem(word) for word in tokenized_text]\n",
        "#    return text\n",
        "\n",
        "#data['comment_text_stemmed'] = data['comment_text_nostop'].apply(lambda x: stemming(x))"
      ],
      "execution_count": 0,
      "outputs": []
    },
    {
      "cell_type": "markdown",
      "metadata": {
        "id": "xMZ3WKz60k5M",
        "colab_type": "text"
      },
      "source": [
        "## 5. Save pre-processed data"
      ]
    },
    {
      "cell_type": "code",
      "metadata": {
        "id": "opux1IqW0k5P",
        "colab_type": "code",
        "colab": {}
      },
      "source": [
        "export_csv = data.to_csv (r'pre_processed_comments.csv', index = None, header=True)"
      ],
      "execution_count": 0,
      "outputs": []
    }
  ]
}