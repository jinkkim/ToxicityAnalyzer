{
  "nbformat": 4,
  "nbformat_minor": 0,
  "metadata": {
    "colab": {
      "name": "Copy of ML-naiveBayes.ipynb",
      "version": "0.3.2",
      "provenance": [],
      "collapsed_sections": [
        "kQdJlLCgJLp-",
        "Zl6_Iv43RqXI"
      ]
    },
    "language_info": {
      "codemirror_mode": {
        "name": "ipython",
        "version": 3
      },
      "file_extension": ".py",
      "mimetype": "text/x-python",
      "name": "python",
      "nbconvert_exporter": "python",
      "pygments_lexer": "ipython3",
      "version": "3.7.2"
    },
    "kernelspec": {
      "display_name": "Python 3",
      "language": "python",
      "name": "python3"
    }
  },
  "cells": [
    {
      "cell_type": "markdown",
      "metadata": {
        "id": "2HdbSGxDJLpq",
        "colab_type": "text"
      },
      "source": [
        "# 1. Vectorizing raw data: TF-IDF"
      ]
    },
    {
      "cell_type": "markdown",
      "metadata": {
        "id": "_UDtAtXLJLpt",
        "colab_type": "text"
      },
      "source": [
        "**TF-IDF**\n",
        "\n",
        "Creates a document-term matrix where the columns represent single unique terms (unigrams) but the cell represents a weighting meant to represent how important a word is to a document."
      ]
    },
    {
      "cell_type": "code",
      "metadata": {
        "id": "ZrDYyuqHJhzI",
        "colab_type": "code",
        "colab": {}
      },
      "source": [
        "import pandas as pd\n",
        "import numpy\n",
        "pd.set_option('display.max_colwidth', 100)\n",
        "data = pd.read_csv(\"pre_processed_comments_concise.csv\")\n",
        "data.head()"
      ],
      "execution_count": 0,
      "outputs": []
    },
    {
      "cell_type": "code",
      "metadata": {
        "colab_type": "code",
        "id": "JpaHg-JQhhUV",
        "colab": {}
      },
      "source": [
        "import joblib\n",
        "from sklearn.feature_extraction.text import TfidfVectorizer\n",
        "tfidf_vect = TfidfVectorizer()\n",
        "tfidf_vect.fit(data['comment_text_lemmatized'])\n",
        "\n",
        "filename = \"tfidf.sav\"\n",
        "joblib.dump(tfidf_vect, filename)\n",
        "\n",
        "tfidf_vect_loaded = joblib.load(filename)\n",
        "X_tfidf = tfidf_vect_loaded.transform(data['comment_text_lemmatized'])\n",
        "print(X_tfidf.shape)"
      ],
      "execution_count": 0,
      "outputs": []
    },
    {
      "cell_type": "markdown",
      "metadata": {
        "id": "DXi_kTWEJLqH",
        "colab_type": "text"
      },
      "source": [
        "## 2. Building Machine Learning Model"
      ]
    },
    {
      "cell_type": "markdown",
      "metadata": {
        "id": "MvmduugJKcB2",
        "colab_type": "text"
      },
      "source": [
        "## Naive Bayes\n",
        "\n",
        "hyperparameters\n",
        "\n",
        "\n"
      ]
    },
    {
      "cell_type": "code",
      "metadata": {
        "id": "OEFwtk4aMZLD",
        "colab_type": "code",
        "colab": {}
      },
      "source": [
        "import joblib\n",
        "import numpy as np\n",
        "from sklearn.naive_bayes import GaussianNB\n",
        "from sklearn.metrics import mean_squared_error\n",
        "from sklearn.model_selection import train_test_split\n",
        "\n",
        "X_tfidf_dense = X_tfidf.toarray()\n",
        "\n",
        "X_train, X_test, y_train, y_test = train_test_split(X_tfidf_dense, data[\"target\"], test_size=0.2, random_state=123)\n",
        "\n",
        "gnb = GaussianNB()\n",
        "gnb.fit(X_train,y_train)\n",
        "y_pred = gnb.predict(X_test)\n",
        "\n",
        "rmse = np.sqrt(mean_squared_error(y_test, y_pred))\n",
        "print(\"RMSE: {}\".format(rmse))\n",
        "\n",
        "score = gnb.score(X_test, y_test)\n",
        "print(\"Score: {}\".format(score))\n",
        "\n",
        "filename_model = \"model_NB.sav\"\n",
        "joblib.dump(gnb, filename_model)\n"
      ],
      "execution_count": 0,
      "outputs": []
    }
  ]
}